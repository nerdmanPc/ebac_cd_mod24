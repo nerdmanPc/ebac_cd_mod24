{
 "cells": [
  {
   "cell_type": "markdown",
   "metadata": {},
   "source": [
    "### 1. Cite 5 diferenças entre o AdaBoost e o GBM.\n",
    "\n",
    "1. No AdaBoost, os 'aprendizes fracos' são árvores de decisão de profundidade 1. No GBM, são árvores arbitrariamente complexas.\n",
    "2. No GBM, o primeiro passo consiste em calcular a média do Y, enquanto no Ada Boost se trata apenas de gerar um *stump*.\n",
    "3. No AdaBoost, a resposta de cada estimador têm um peso diferente, baseado na sua performance, enquanto que, no GBM, as estimativas são multiplicadas pela mesma constante.\n",
    "4. No AdaBoost, cada estimador é treinado com um conjunto de dados diferente, ao contrário do GBM.\n",
    "5. No AdaBoost, cada estimador é treinado para prever a variável resposta, enquanto que, no GBM, cada árvore é treinada para estimar o desvio da média."
   ]
  },
  {
   "cell_type": "markdown",
   "metadata": {},
   "source": [
    "### 2. Acesse o link Scikit-learn – GBM, leia a explicação (traduza se for preciso) e crie um jupyter notebook contendo o exemplo de classificação e de regressão do GBM."
   ]
  },
  {
   "cell_type": "code",
   "execution_count": 4,
   "metadata": {},
   "outputs": [
    {
     "data": {
      "text/plain": [
       "0.913"
      ]
     },
     "execution_count": 4,
     "metadata": {},
     "output_type": "execute_result"
    }
   ],
   "source": [
    "#Classificação\n",
    "\n",
    "from sklearn.datasets import make_hastie_10_2\n",
    "from sklearn.ensemble import GradientBoostingClassifier\n",
    "\n",
    "X, y = make_hastie_10_2(random_state=0)\n",
    "X_train, X_test = X[:2000], X[2000:]\n",
    "y_train, y_test = y[:2000], y[2000:]\n",
    "\n",
    "clf = GradientBoostingClassifier(\n",
    "    n_estimators=100, \n",
    "    learning_rate=1.0, \n",
    "    max_depth=1, \n",
    "    random_state=0\n",
    ").fit(X_train, y_train)\n",
    "\n",
    "clf.score(X_test, y_test)"
   ]
  },
  {
   "cell_type": "code",
   "execution_count": 5,
   "metadata": {},
   "outputs": [
    {
     "data": {
      "text/plain": [
       "5.009154859960321"
      ]
     },
     "execution_count": 5,
     "metadata": {},
     "output_type": "execute_result"
    }
   ],
   "source": [
    "#Regressão\n",
    "\n",
    "from sklearn.metrics import mean_squared_error\n",
    "from sklearn.datasets import make_friedman1\n",
    "from sklearn.ensemble import GradientBoostingRegressor\n",
    "\n",
    "X, y = make_friedman1(n_samples=1200, random_state=0, noise=1.0)\n",
    "X_train, X_test = X[:200], X[200:]\n",
    "y_train, y_test = y[:200], y[200:]\n",
    "\n",
    "est = GradientBoostingRegressor(\n",
    "    n_estimators=100,\n",
    "    learning_rate=0.1,\n",
    "    max_depth=1,\n",
    "    random_state=0,\n",
    "    loss='squared_error'\n",
    ").fit(X_train, y_train)\n",
    "\n",
    "mean_squared_error(y_test, est.predict(X_test))\n"
   ]
  },
  {
   "cell_type": "markdown",
   "metadata": {},
   "source": [
    "### 3. Cite 5 Hyperparametros importantes no GBM.\n",
    "1. n_estimators: Número de árvores a serem treinadas.\n",
    "2. learnig_rate: multiplicador da contribuição de cada árvore na obtenção da resposta.\n",
    "3. max_depth: Profundidade máxima de cada árvore.\n",
    "4. max_leaf_nodes: Número máximo de nós de cada árvore.\n",
    "5. loss: Função que será usada para otimizar as árvores."
   ]
  },
  {
   "cell_type": "markdown",
   "metadata": {},
   "source": [
    "### 4. Utilize o GridSearch para encontrar os melhores hiperparametros para o conjunto de dados do exemplo."
   ]
  },
  {
   "cell_type": "code",
   "execution_count": 6,
   "metadata": {},
   "outputs": [
    {
     "data": {
      "text/plain": [
       "0.8606829692397686"
      ]
     },
     "execution_count": 6,
     "metadata": {},
     "output_type": "execute_result"
    }
   ],
   "source": [
    "import numpy as np\n",
    "from sklearn.model_selection import GridSearchCV\n",
    "\n",
    "est = GradientBoostingRegressor()\n",
    "\n",
    "params = {\n",
    "    'n_estimators': np.arange(1, 501, 20),\n",
    "    'learning_rate': np.linspace(0.001, 1.0, 10)\n",
    "}\n",
    "\n",
    "grid = GridSearchCV(\n",
    "    estimator = est,\n",
    "    param_grid = params,\n",
    "    scoring = 'r2',\n",
    "    cv = 5\n",
    ")\n",
    "\n",
    "grid.fit(X_train, y_train)\n",
    "grid.score(X_test, y_test)"
   ]
  },
  {
   "cell_type": "markdown",
   "metadata": {},
   "source": [
    "### 5. Acessando o artigo do Jerome Friedman (Stochastic) e pensando no nome dado ao Stochastic GBM, qual é a maior diferença entre os dois algoritmos?.\n",
    "\n",
    "A cada iteração, o Stochastic GBM seleciona uma subamostra aleatória sem reposição dos dados de treino."
   ]
  }
 ],
 "metadata": {
  "kernelspec": {
   "display_name": "Python 3.10.6 64-bit",
   "language": "python",
   "name": "python3"
  },
  "language_info": {
   "codemirror_mode": {
    "name": "ipython",
    "version": 3
   },
   "file_extension": ".py",
   "mimetype": "text/x-python",
   "name": "python",
   "nbconvert_exporter": "python",
   "pygments_lexer": "ipython3",
   "version": "3.10.6"
  },
  "orig_nbformat": 4,
  "vscode": {
   "interpreter": {
    "hash": "916dbcbb3f70747c44a77c7bcd40155683ae19c65e1c03b4aa3499c5328201f1"
   }
  }
 },
 "nbformat": 4,
 "nbformat_minor": 2
}
