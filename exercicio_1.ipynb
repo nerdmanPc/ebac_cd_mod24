{
 "cells": [
  {
   "cell_type": "markdown",
   "metadata": {},
   "source": [
    "1. \n",
    "    1. O AdaBoost uss a técnica Boosting para gerar os modelos, enquanto o Random Forest usa o Bagging.\n",
    "    2. O Random forest usa árvores completas, enquanto o AdaBoost usa _stumps_ ou seja, árvores com um nó e duas folhas.\n",
    "    3. No Random Forest todas as árvores têm peso peso igual na obtenção da resposta. No AdaBoost, o peso de cada árvore depende da sua performance.\n",
    "    4. No Random Forest, o processo de geração das árvores é independente e paralelizável, enquanto o do Ada Boost é sequencial.\n",
    "    5. Ao contrário do Random Forest, o AdaBoost cria cada árvore tentando corrigir os erros da anterior\n"
   ]
  },
  {
   "cell_type": "code",
   "execution_count": 4,
   "metadata": {},
   "outputs": [
    {
     "data": {
      "text/plain": [
       "0.9466666666666665"
      ]
     },
     "execution_count": 4,
     "metadata": {},
     "output_type": "execute_result"
    }
   ],
   "source": [
    "# Ítem 2\n",
    "from sklearn.model_selection import cross_val_score\n",
    "from sklearn.datasets import load_iris\n",
    "from sklearn.ensemble import AdaBoostClassifier\n",
    "\n",
    "X, y = load_iris(return_X_y=True)\n",
    "clf = AdaBoostClassifier(n_estimators=100)\n",
    "scores = cross_val_score(clf, X, y, cv=5)\n",
    "scores.mean()"
   ]
  },
  {
   "cell_type": "markdown",
   "metadata": {},
   "source": [
    "3. \n",
    "    1. n_estimators: Número de modelos\n",
    "    2. learning_rate: Peso atribuido a cada modelo em cada iteração do Boosting.\n",
    "    3. base_estimator: Modelo que servirá de base para a construção do Ensemble. Por padrão, são árvores de decisão.\n",
    "    4. max_depth: profundidade máxima de cada árvore de decisão. O padrão é 1.\n",
    "    5. min_samples_split: mínimo de amostras em cada nó para fezer a divisão.\n"
   ]
  },
  {
   "cell_type": "code",
   "execution_count": 6,
   "metadata": {},
   "outputs": [
    {
     "data": {
      "text/plain": [
       "0.98"
      ]
     },
     "execution_count": 6,
     "metadata": {},
     "output_type": "execute_result"
    }
   ],
   "source": [
    "import numpy as np\n",
    "from sklearn.model_selection import GridSearchCV\n",
    "\n",
    "clf = AdaBoostClassifier()\n",
    "\n",
    "params = {\n",
    "    'n_estimators': np.arange(1, 202, 20),\n",
    "    'learning_rate': np.exp(np.arange(1, 20, 1))\n",
    "}\n",
    "\n",
    "grid = GridSearchCV(\n",
    "    estimator = clf,\n",
    "    param_grid = params,\n",
    "    scoring = 'accuracy',\n",
    "    cv = 5\n",
    ")\n",
    "\n",
    "grid.fit(X, y)\n",
    "\n",
    "grid.score(X, y)"
   ]
  }
 ],
 "metadata": {
  "kernelspec": {
   "display_name": "Python 3.10.6 64-bit",
   "language": "python",
   "name": "python3"
  },
  "language_info": {
   "codemirror_mode": {
    "name": "ipython",
    "version": 3
   },
   "file_extension": ".py",
   "mimetype": "text/x-python",
   "name": "python",
   "nbconvert_exporter": "python",
   "pygments_lexer": "ipython3",
   "version": "3.10.6"
  },
  "orig_nbformat": 4,
  "vscode": {
   "interpreter": {
    "hash": "916dbcbb3f70747c44a77c7bcd40155683ae19c65e1c03b4aa3499c5328201f1"
   }
  }
 },
 "nbformat": 4,
 "nbformat_minor": 2
}
